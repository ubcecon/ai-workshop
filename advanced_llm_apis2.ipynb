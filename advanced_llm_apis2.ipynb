{
  "cells": [
    {
      "cell_type": "raw",
      "metadata": {},
      "source": [
        "---\n",
        "title: 4.5 - Advanced - LLM APIs 2\n",
        "author: 'COMET Team <br> _Jonathan Graves, Alex Haddon_'\n",
        "date: 7 August 2024\n",
        "description: 'This notebook illustrates how to call different Large Language Models (LLMs) using their API, for the purposes of data analysis or computational use.'\n",
        "categories:\n",
        "  - advanced\n",
        "  - python\n",
        "  - OpenAI\n",
        "format:\n",
        "  html: default\n",
        "  ipynb:\n",
        "    jupyter:\n",
        "      kernelspec:\n",
        "        display_name: Python 3 (ipykernel)\n",
        "        language: python3\n",
        "        name: python3\n",
        "---"
      ]
    },
    {
      "cell_type": "markdown",
      "metadata": {},
      "source": [
        "## What are LLMs?\n",
        "\n",
        "Large Language Models (LLMs) are advanced machine learning models designed to understand and generate human-like text based on the data they have been trained on. Examples of popular LLMs include GPT-3.5 from OpenAI and open-source models such as `ollama` or `BERT`. \n",
        "\n",
        "## Applications of LLMs\n",
        "\n",
        "Large language models have a wide range of applications across various domains. In natural language understanding (NLU), they excel in tasks like text classification, named entity recognition, and language translation, enabling efficient content categorization and multilingual communication. LLMs are also powerful tools for text generation, facilitating the creation of articles, creative writing, and summarization of lengthy documents. Additionally, they enhance conversational agents and virtual assistants, providing human-like interactions and support. Furthermore, LLMs play a crucial role in knowledge extraction, sentiment analysis, and automated coding, making them invaluable in fields like customer support, market analysis, software development, and beyond. In fact, what you are reading right now was created using an LLM!\n",
        "\n",
        "Here is a [cool video](https://www.youtube.com/watch?v=5sLYAQS9sWQ&ab_channel=IBMTechnology) made by IBM that explains a little more about how LLMs work. \n",
        "\n",
        "## Understanding model infrastructure: encoder versus decoder models\n",
        "\n",
        "Encoder and decoder models are two key \"architectures\" (the structure and overall design of a model) used in language models. The exact difference between the two model types isn't too important, however it's important to recognize their use-cases. **Encoder** models are designed to *understand* input sequences, such as sentences or documents. They are often used for tasks that involve understanding and extracting information from text, such as text classification or embedding generation. \n",
        "\n",
        "On the other hand, **decoder** models are designed for _generating_ complicated text sequences. They are often used when the task involves creating coherent and contextually appropriate text, such as completing sentences or generating responses. Chat-GPT, for instance, is a decoder-only model: it is great at generating complicated walls of text, but struggles with tasks such as sentiment analysis. \n",
        "\n",
        "# Setting Up the Environment\n",
        "\n",
        "Head to [ollama.com](https://ollama.com/) and download ollama locally. Then, in your terminal, run the code `ollama pull llama3` and wait for it to install\n",
        "\n",
        "## Installing Required Libraries\n",
        "Make sure to install the ollama library if you haven't already; in your terminal use the command `pip install ollama`. There will be various other packages you will be prompted to install later in this notebook. \n",
        "\n",
        "\n",
        "# Using an LLM (e.g., llama3)\n",
        "\n",
        "## Connecting to the LLM API\n",
        "Define a function to query the model by specifying the correct model as well as the prompt we want to pass to the model. \n",
        "\n",
        "> **NOTE**: Make sure that you have the ollama application open and running locally before you try and make an API call or else you will get an error likely stating your connection has been \"refused\". "
      ]
    },
    {
      "cell_type": "code",
      "execution_count": null,
      "metadata": {},
      "outputs": [],
      "source": [
        "!pip install ollama\n",
        "!pip install pandas\n",
        "!pip install praw\n",
        "!pip install transformers\n",
        "!pip install torch"
      ]
    },
    {
      "cell_type": "code",
      "execution_count": 30,
      "metadata": {},
      "outputs": [],
      "source": [
        "import pandas as pd\n",
        "import ollama\n",
        "from advanced_llm_apis2_tests import Tests"
      ]
    },
    {
      "cell_type": "code",
      "execution_count": null,
      "metadata": {},
      "outputs": [],
      "source": [
        "\n",
        "response = ollama.chat(\n",
        "    model='llama3',  # specify the model \n",
        "    messages=[{'role': 'user', 'content': 'In fewer than 50 words, why is the sky blue?'}]) # insert the desired prompt\n",
        "\n",
        "print(response)"
      ]
    },
    {
      "cell_type": "markdown",
      "metadata": {},
      "source": [
        "The output of our API call to `ollama` comes in the [JSON](https://www.json.org/json-en.html) form which stands for JavaScript Object Notation. Essentially the output is split into a series of pairs consisting of a field name, colon, and then the value. For example, the output of our API call has `'model':'llama3'` as one of the entries meaning that the model we used to generate the response is llama3. If we want just the response to be the output we can specify that in our print statement using the code below:"
      ]
    },
    {
      "cell_type": "code",
      "execution_count": null,
      "metadata": {},
      "outputs": [],
      "source": [
        "# Only show the response from llama3\n",
        "print(response['message']['content'])"
      ]
    },
    {
      "cell_type": "markdown",
      "metadata": {},
      "source": [
        "Now you try! Fill in the code skeleton with the correct code. \n",
        "\n",
        "> **TIP**: In your prompt specify that you don't want a long response. Without that, `ollama` can take a very long time, especially if your machine is slower, as it is running locally rather than connecting to external servers."
      ]
    },
    {
      "cell_type": "code",
      "execution_count": null,
      "metadata": {},
      "outputs": [],
      "source": [
        "#response = ollama.chat(\n",
        "#     model= ...,\n",
        "#     messages=[{'role': 'user', 'content': ...}])\n",
        "\n",
        "# print(...)"
      ]
    },
    {
      "cell_type": "markdown",
      "metadata": {},
      "source": [
        "# Self-Tests and Exercises\n",
        "\n",
        "## Multiple Choice Questions\n",
        "Here are a few questions you can use to check your understanding. Run the cell below before attempting the multiple choice questions."
      ]
    },
    {
      "cell_type": "markdown",
      "metadata": {},
      "source": [
        "### Question 1\n",
        "\n",
        "The output in JSON form uses the dictionary data type. What key (or sequence of keys) in the dictionary holds the output of the model?\n",
        "- A) ['model']\n",
        "- B) ['message']\n",
        "- C) ['message']['content']\n",
        "- D) ['content']\n",
        "- E) ['content']['message']\n",
        "- F) ['model']['message']\n",
        "\n",
        "*Enter your answer below as a a string with one of A,B,C,D,E,F ie. \"A\"*"
      ]
    },
    {
      "cell_type": "code",
      "execution_count": null,
      "metadata": {},
      "outputs": [],
      "source": [
        "answer1 = #your answer here\n",
        "\n",
        "Tests.test1(answer1)"
      ]
    },
    {
      "cell_type": "markdown",
      "metadata": {},
      "source": [
        "### Question 2\n",
        "\n",
        "Out of the options below, which best describes what an LLM (Large Language Model) is?\n",
        "\n",
        "- A) A specialized algorithm for analyzing large datasets and generating insights.\n",
        "- B) A type of neural network that excels in generating human-like text based on extensive training data.\n",
        "- C) A tool designed for processing and translating spoken language into text.\n",
        "- D) A machine learning model primarily used for image and object recognition.\n",
        "\n",
        "*Enter your answer below as a a string with one of A,B,C,D ie. \"A\"*"
      ]
    },
    {
      "cell_type": "code",
      "execution_count": null,
      "metadata": {},
      "outputs": [],
      "source": [
        "answer2 = #your answer here \n",
        "\n",
        "Tests.test2(answer2)"
      ]
    },
    {
      "cell_type": "markdown",
      "metadata": {},
      "source": [
        "# Worked Examples: Natural language processing and sentiment Analysis\n",
        "\n",
        "**Natural language processing** is a field of artificial intelligence that focuses on the interaction between computers and human languages. It aims to enable machines to understand, interpret, generate, and respond to human language in a way that is both meaningful and useful. One category of natural language processing is **sentiment analysis**: the NLP technique used to determine the emotional tone or sentiment expressed in a piece of text, also referred to as \"opinion mining\". It aims to classify text as positive, negative, neutral, or sometimes more granular emotional categories (e.g., anger, joy, sadness). Sentiment analysis is widely used for analyzing opinions, feedback, and emotions in social media posts, reviews, surveys, and other types of text data. \n",
        "\n",
        "Social scientists use sentiment analysis to assess the public’s reaction to government policies, decisions, and political figures, understand how public sentiment evolves during social movements, protests, or cultural shifts, and understand changes in collective behavior, as well as pick up on toxicity and radicalization in communities. For instance, Ederer et al. (2023) used LLM-powered sentiment analysis to classify posts by sentiment on the Econ Job Market Rumors (EJMR) online forum, finding that posts mentioning women or female pronouns (\"she\", \"her\", \"hers\") attracted significantly more hate speech, misogyny, and toxicity compared to posts directed at or mentioning men. \n",
        "\n",
        "## Problem Statement\n",
        "\n",
        "The issue with traditional sentiment analysis, also called lexicon-based sentiment analysis, is that it groups sentiment based on keywords pulled from a dictionary of pre-labelled words. For instance, consider the sentence: \n",
        "\n",
        "> *\"While Biden did win the election, the five-point difference in the actual election results and the predicted polling shows that pollsters are extremely unreliable, and are most often shills for a particular political party.\"*\n",
        "\n",
        "Under traditional sentiment analysis, this sentence would be labelled as negative, as the words \"unreliable\" and \"shills\" are present in the negative words dictionary, and no words are present in the positive words dictionary. However, while efficient, this makes traditional analysis inaccurate in the modern digital landscape, where sentiment is often obfuscated by sarcasm, humor, and missing context. On the other hand, consider the following tweet:\n",
        "\n",
        "> *\"YouTube now officially allow advertisers to display ads while videos are paused... actual piracy sites have less ads than youtube now.\"* (@7RlNGSINHAND, 2024)\n",
        "\n",
        "The sentiment here is clearly negative, expressing frustration at the plethora of ads on streaming sites. However, this is only obvious to the (human) reader, who understands the broader context of the tweet. The tweet itself contains no wording geared towards a particular sentiment, and would thus not be picked up as negative using traditional sentiment analysis methods. \n",
        "\n",
        "This is the issue that LLM-powered sentiment analysis attempts to solve: by *training* a LLM on large amounts of pre-labeled sentences, LLMs are able to pick up on the context clues, sarcasm, and humor that makes analyzing sentiment difficult. In this section, we introduce two methods of sentiment analysis. The first uses the ollama model we used earlier, and the second introduces BERT, another LLM, created specifically for sentiment analysis tasks. "
      ]
    },
    {
      "cell_type": "markdown",
      "metadata": {},
      "source": [
        "#### Step 1: Installing Required Python Libraries\n",
        "\n",
        "We did this above when ran the command `pip install pandas` and `import pandas as pd` We will install pandas which will help us convert our survey responses into a machine readable data frame. Pandas is a popular Python library used for data manipulation and analysis. It provides powerful data structures like DataFrames and Series, which allow users to work with labeled and relational data intuitively. With pandas, you can easily read, clean, transform, and analyze data from various formats such as CSV, Excel, SQL databases, and more. "
      ]
    },
    {
      "cell_type": "markdown",
      "metadata": {},
      "source": [
        "#### Step 2: Read the CSV File\n",
        "\n",
        "First, we will read the `survey_responses_election.csv` file into a pandas DataFrame to load the survey responses."
      ]
    },
    {
      "cell_type": "code",
      "execution_count": 26,
      "metadata": {},
      "outputs": [
        {
          "name": "stdout",
          "output_type": "stream",
          "text": [
            "                                            Response\n",
            "0  I'm hopeful that the upcoming election will br...\n",
            "1  I'm worried about the outcome, I don't trust a...\n",
            "2  I feel indifferent, as I don't think my vote w...\n",
            "3  I am excited to participate in the upcoming el...\n",
            "4  I am skeptical about the promises being made b...\n"
          ]
        }
      ],
      "source": [
        "# Read the CSV file with the survey responses\n",
        "df = pd.read_csv('survey_responses_election.csv')\n",
        "\n",
        "# Display the first few rows of the DataFrame to verify the content\n",
        "print(df.head())"
      ]
    },
    {
      "cell_type": "markdown",
      "metadata": {},
      "source": [
        "#### Step 3: Prepare the Responses for Sentiment Analysis\n",
        "\n",
        "Next, we’ll convert the survey responses from the DataFrame into a list format that can be passed to the LLM for sentiment analysis."
      ]
    },
    {
      "cell_type": "code",
      "execution_count": 28,
      "metadata": {},
      "outputs": [
        {
          "name": "stdout",
          "output_type": "stream",
          "text": [
            "[\"I'm hopeful that the upcoming election will bring positive change.\", \"I'm worried about the outcome, I don't trust any of the candidates.\", \"I feel indifferent, as I don't think my vote will make a difference.\", 'I am excited to participate in the upcoming election, it feels important.', 'I am skeptical about the promises being made by all sides.']\n"
          ]
        }
      ],
      "source": [
        "# Convert the 'Survey Response' column into a list\n",
        "responses = df['Response'].tolist()\n",
        "\n",
        "# Print the list of responses to verify\n",
        "print(responses[:5])  # Display the first 5 responses"
      ]
    },
    {
      "cell_type": "markdown",
      "metadata": {},
      "source": [
        "#### Step 4: Perform Sentiment Analysis Using an LLM\n",
        "\n",
        "Now that we have the responses in a list, we will use an LLM model (like llama3 from ollama) to perform sentiment analysis. The LLM will analyze the sentiments expressed in the survey responses."
      ]
    },
    {
      "cell_type": "code",
      "execution_count": 31,
      "metadata": {},
      "outputs": [],
      "source": [
        "# Define a prompt for sentiment analysis\n",
        "response = ollama.chat(\n",
        "    model='llama3',  # specify the model\n",
        "    messages=[{'role': 'user', 'content': f\"Provide a summary of the following survey responses:\\n{responses}\"}]\n",
        ")\n",
        "\n",
        "# Print the model's output (the summary of the survey responses) formatted for better readability\n",
        "print(\"Summary of Survey Responses:\")\n",
        "print(response['message']['content'])"
      ]
    },
    {
      "cell_type": "markdown",
      "metadata": {},
      "source": [
        "## Worked example #2: Sentiment analysis using BERT\n",
        "\n",
        "We'll now introduce a new model designed specifically for text classification tasks, called BERT (Bidirectional Encoder Representations from Transformers). Compared to ollama, which is a decoder-only, BERT is encoder-only, making it significantly more efficient and accurate at sentiment analysis and text classification tasks. Like ollama, we'll be using bert through an API. "
      ]
    },
    {
      "cell_type": "code",
      "execution_count": 18,
      "metadata": {},
      "outputs": [],
      "source": [
        "import pandas as pd\n",
        "survey_responses = pd.read_csv('survey_responses_election.csv')\n",
        "\n",
        "responses = survey_responses['Response']"
      ]
    },
    {
      "cell_type": "code",
      "execution_count": 19,
      "metadata": {},
      "outputs": [
        {
          "name": "stderr",
          "output_type": "stream",
          "text": [
            "c:\\Users\\irene\\miniconda3\\envs\\idfk2\\Lib\\site-packages\\transformers\\tokenization_utils_base.py:1601: FutureWarning: `clean_up_tokenization_spaces` was not set. It will be set to `True` by default. This behavior will be depracted in transformers v4.45, and will be then set to `False` by default. For more details check this issue: https://github.com/huggingface/transformers/issues/31884\n",
            "  warnings.warn(\n"
          ]
        }
      ],
      "source": [
        "from transformers import BertTokenizer, BertForSequenceClassification\n",
        "from transformers import pipeline\n",
        "\n",
        "sentiment_pipeline = pipeline('sentiment-analysis', model='distilbert-base-uncased-finetuned-sst-2-english')\n",
        "sentiments = sentiment_pipeline(responses.tolist())"
      ]
    },
    {
      "cell_type": "code",
      "execution_count": 20,
      "metadata": {},
      "outputs": [
        {
          "name": "stdout",
          "output_type": "stream",
          "text": [
            "[{'label': 'POSITIVE', 'score': 0.9996604919433594}, {'label': 'NEGATIVE', 'score': 0.9997697472572327}, {'label': 'NEGATIVE', 'score': 0.9997668862342834}, {'label': 'POSITIVE', 'score': 0.9995999932289124}, {'label': 'NEGATIVE', 'score': 0.9881099462509155}, {'label': 'POSITIVE', 'score': 0.9900344014167786}, {'label': 'POSITIVE', 'score': 0.9917480945587158}, {'label': 'POSITIVE', 'score': 0.9987157583236694}, {'label': 'POSITIVE', 'score': 0.9996604919433594}, {'label': 'NEGATIVE', 'score': 0.9997697472572327}, {'label': 'NEGATIVE', 'score': 0.9997668862342834}, {'label': 'POSITIVE', 'score': 0.9995999932289124}, {'label': 'NEGATIVE', 'score': 0.9881099462509155}, {'label': 'POSITIVE', 'score': 0.9900344014167786}, {'label': 'POSITIVE', 'score': 0.9917480945587158}, {'label': 'POSITIVE', 'score': 0.9987157583236694}, {'label': 'POSITIVE', 'score': 0.9996604919433594}, {'label': 'NEGATIVE', 'score': 0.9997697472572327}, {'label': 'NEGATIVE', 'score': 0.9997668862342834}, {'label': 'POSITIVE', 'score': 0.9995999932289124}, {'label': 'NEGATIVE', 'score': 0.9881099462509155}, {'label': 'POSITIVE', 'score': 0.9900344014167786}, {'label': 'POSITIVE', 'score': 0.9917480945587158}, {'label': 'POSITIVE', 'score': 0.9987157583236694}, {'label': 'POSITIVE', 'score': 0.9996604919433594}, {'label': 'NEGATIVE', 'score': 0.9997697472572327}, {'label': 'NEGATIVE', 'score': 0.9997668862342834}, {'label': 'POSITIVE', 'score': 0.9995999932289124}, {'label': 'NEGATIVE', 'score': 0.9881099462509155}, {'label': 'POSITIVE', 'score': 0.9900344014167786}, {'label': 'POSITIVE', 'score': 0.9917480945587158}, {'label': 'POSITIVE', 'score': 0.9987157583236694}, {'label': 'POSITIVE', 'score': 0.9996604919433594}, {'label': 'NEGATIVE', 'score': 0.9997697472572327}, {'label': 'NEGATIVE', 'score': 0.9997668862342834}, {'label': 'POSITIVE', 'score': 0.9995999932289124}, {'label': 'NEGATIVE', 'score': 0.9881099462509155}, {'label': 'POSITIVE', 'score': 0.9900344014167786}, {'label': 'POSITIVE', 'score': 0.9917480945587158}, {'label': 'POSITIVE', 'score': 0.9987157583236694}, {'label': 'POSITIVE', 'score': 0.9996604919433594}, {'label': 'NEGATIVE', 'score': 0.9997697472572327}, {'label': 'NEGATIVE', 'score': 0.9997668862342834}, {'label': 'POSITIVE', 'score': 0.9995999932289124}, {'label': 'NEGATIVE', 'score': 0.9881099462509155}, {'label': 'POSITIVE', 'score': 0.9900344014167786}, {'label': 'POSITIVE', 'score': 0.9917480945587158}, {'label': 'POSITIVE', 'score': 0.9987157583236694}]\n"
          ]
        }
      ],
      "source": [
        "print(sentiments)"
      ]
    },
    {
      "cell_type": "code",
      "execution_count": 21,
      "metadata": {},
      "outputs": [],
      "source": [
        "sentiment_labels = []\n",
        "sentiment_scores = []\n",
        "\n",
        "for sentiment in sentiments:\n",
        "    sentiment_labels.append(sentiment['label'])\n",
        "    sentiment_scores.append(sentiment['score'])             "
      ]
    },
    {
      "cell_type": "code",
      "execution_count": 22,
      "metadata": {},
      "outputs": [
        {
          "name": "stdout",
          "output_type": "stream",
          "text": [
            "['POSITIVE', 'NEGATIVE', 'NEGATIVE', 'POSITIVE', 'NEGATIVE', 'POSITIVE', 'POSITIVE', 'POSITIVE', 'POSITIVE', 'NEGATIVE', 'NEGATIVE', 'POSITIVE', 'NEGATIVE', 'POSITIVE', 'POSITIVE', 'POSITIVE', 'POSITIVE', 'NEGATIVE', 'NEGATIVE', 'POSITIVE', 'NEGATIVE', 'POSITIVE', 'POSITIVE', 'POSITIVE', 'POSITIVE', 'NEGATIVE', 'NEGATIVE', 'POSITIVE', 'NEGATIVE', 'POSITIVE', 'POSITIVE', 'POSITIVE', 'POSITIVE', 'NEGATIVE', 'NEGATIVE', 'POSITIVE', 'NEGATIVE', 'POSITIVE', 'POSITIVE', 'POSITIVE', 'POSITIVE', 'NEGATIVE', 'NEGATIVE', 'POSITIVE', 'NEGATIVE', 'POSITIVE', 'POSITIVE', 'POSITIVE']\n",
            "[0.9996604919433594, 0.9997697472572327, 0.9997668862342834, 0.9995999932289124, 0.9881099462509155, 0.9900344014167786, 0.9917480945587158, 0.9987157583236694, 0.9996604919433594, 0.9997697472572327, 0.9997668862342834, 0.9995999932289124, 0.9881099462509155, 0.9900344014167786, 0.9917480945587158, 0.9987157583236694, 0.9996604919433594, 0.9997697472572327, 0.9997668862342834, 0.9995999932289124, 0.9881099462509155, 0.9900344014167786, 0.9917480945587158, 0.9987157583236694, 0.9996604919433594, 0.9997697472572327, 0.9997668862342834, 0.9995999932289124, 0.9881099462509155, 0.9900344014167786, 0.9917480945587158, 0.9987157583236694, 0.9996604919433594, 0.9997697472572327, 0.9997668862342834, 0.9995999932289124, 0.9881099462509155, 0.9900344014167786, 0.9917480945587158, 0.9987157583236694, 0.9996604919433594, 0.9997697472572327, 0.9997668862342834, 0.9995999932289124, 0.9881099462509155, 0.9900344014167786, 0.9917480945587158, 0.9987157583236694]\n"
          ]
        }
      ],
      "source": [
        "print(sentiment_labels)\n",
        "print(sentiment_scores)"
      ]
    },
    {
      "cell_type": "code",
      "execution_count": 23,
      "metadata": {},
      "outputs": [],
      "source": [
        "survey_responses['Sentiment'] = sentiment_labels\n",
        "survey_responses['Score'] = sentiment_scores"
      ]
    },
    {
      "cell_type": "code",
      "execution_count": 25,
      "metadata": {},
      "outputs": [
        {
          "name": "stdout",
          "output_type": "stream",
          "text": [
            "                                             Response Sentiment     Score\n",
            "0   I'm hopeful that the upcoming election will br...  POSITIVE  0.999660\n",
            "1   I'm worried about the outcome, I don't trust a...  NEGATIVE  0.999770\n",
            "2   I feel indifferent, as I don't think my vote w...  NEGATIVE  0.999767\n",
            "3   I am excited to participate in the upcoming el...  POSITIVE  0.999600\n",
            "4   I am skeptical about the promises being made b...  NEGATIVE  0.988110\n",
            "5   I believe the election could be a turning poin...  POSITIVE  0.990034\n",
            "6   I'm concerned about the increasing polarizatio...  POSITIVE  0.991748\n",
            "7   I'm not very engaged in the election process, ...  POSITIVE  0.998716\n",
            "8   I'm hopeful that the upcoming election will br...  POSITIVE  0.999660\n",
            "9   I'm worried about the outcome, I don't trust a...  NEGATIVE  0.999770\n",
            "10  I feel indifferent, as I don't think my vote w...  NEGATIVE  0.999767\n",
            "11  I am excited to participate in the upcoming el...  POSITIVE  0.999600\n",
            "12  I am skeptical about the promises being made b...  NEGATIVE  0.988110\n",
            "13  I believe the election could be a turning poin...  POSITIVE  0.990034\n",
            "14  I'm concerned about the increasing polarizatio...  POSITIVE  0.991748\n",
            "15  I'm not very engaged in the election process, ...  POSITIVE  0.998716\n",
            "16  I'm hopeful that the upcoming election will br...  POSITIVE  0.999660\n",
            "17  I'm worried about the outcome, I don't trust a...  NEGATIVE  0.999770\n",
            "18  I feel indifferent, as I don't think my vote w...  NEGATIVE  0.999767\n",
            "19  I am excited to participate in the upcoming el...  POSITIVE  0.999600\n",
            "20  I am skeptical about the promises being made b...  NEGATIVE  0.988110\n",
            "21  I believe the election could be a turning poin...  POSITIVE  0.990034\n",
            "22  I'm concerned about the increasing polarizatio...  POSITIVE  0.991748\n",
            "23  I'm not very engaged in the election process, ...  POSITIVE  0.998716\n",
            "24  I'm hopeful that the upcoming election will br...  POSITIVE  0.999660\n",
            "25  I'm worried about the outcome, I don't trust a...  NEGATIVE  0.999770\n",
            "26  I feel indifferent, as I don't think my vote w...  NEGATIVE  0.999767\n",
            "27  I am excited to participate in the upcoming el...  POSITIVE  0.999600\n",
            "28  I am skeptical about the promises being made b...  NEGATIVE  0.988110\n",
            "29  I believe the election could be a turning poin...  POSITIVE  0.990034\n",
            "30  I'm concerned about the increasing polarizatio...  POSITIVE  0.991748\n",
            "31  I'm not very engaged in the election process, ...  POSITIVE  0.998716\n",
            "32  I'm hopeful that the upcoming election will br...  POSITIVE  0.999660\n",
            "33  I'm worried about the outcome, I don't trust a...  NEGATIVE  0.999770\n",
            "34  I feel indifferent, as I don't think my vote w...  NEGATIVE  0.999767\n",
            "35  I am excited to participate in the upcoming el...  POSITIVE  0.999600\n",
            "36  I am skeptical about the promises being made b...  NEGATIVE  0.988110\n",
            "37  I believe the election could be a turning poin...  POSITIVE  0.990034\n",
            "38  I'm concerned about the increasing polarizatio...  POSITIVE  0.991748\n",
            "39  I'm not very engaged in the election process, ...  POSITIVE  0.998716\n",
            "40  I'm hopeful that the upcoming election will br...  POSITIVE  0.999660\n",
            "41  I'm worried about the outcome, I don't trust a...  NEGATIVE  0.999770\n",
            "42  I feel indifferent, as I don't think my vote w...  NEGATIVE  0.999767\n",
            "43  I am excited to participate in the upcoming el...  POSITIVE  0.999600\n",
            "44  I am skeptical about the promises being made b...  NEGATIVE  0.988110\n",
            "45  I believe the election could be a turning poin...  POSITIVE  0.990034\n",
            "46  I'm concerned about the increasing polarizatio...  POSITIVE  0.991748\n",
            "47  I'm not very engaged in the election process, ...  POSITIVE  0.998716\n"
          ]
        }
      ],
      "source": [
        "print(survey_responses)"
      ]
    },
    {
      "cell_type": "markdown",
      "metadata": {},
      "source": [
        "# Conclusion\n",
        "\n",
        "## Recap of What Was Learned\n",
        "- We re-introduced the concept of Large Language Models (LLMs) and their applications.\n",
        "- We set up the environment and connected to the Ollama API.\n",
        "- We explored how to use LLMs with example prompts and responses.\n",
        "- We created our own embeddings from which we could make api calls to the Ollama API with the additional context of the given pdf.\n",
        "\n",
        "For more information about word embeddings and retrieval-augmented generation (RAG) see our other applicable notebooks.\n"
      ]
    }
  ],
  "metadata": {
    "kernelspec": {
      "display_name": "Python 3 (ipykernel)",
      "language": "python",
      "name": "python3"
    },
    "language_info": {
      "codemirror_mode": {
        "name": "ipython",
        "version": 3
      },
      "file_extension": ".py",
      "mimetype": "text/x-python",
      "name": "python",
      "nbconvert_exporter": "python",
      "pygments_lexer": "ipython3",
      "version": "3.12.0"
    }
  },
  "nbformat": 4,
  "nbformat_minor": 4
}
